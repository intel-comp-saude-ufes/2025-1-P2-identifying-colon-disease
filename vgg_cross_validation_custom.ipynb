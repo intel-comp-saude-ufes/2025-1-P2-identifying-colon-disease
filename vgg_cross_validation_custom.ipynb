{
 "cells": [
  {
   "cell_type": "markdown",
   "id": "78d2b54c",
   "metadata": {},
   "source": [
    "# VGG16 com Validação Cruzada\n",
    "Este notebook aplica a rede **VGG16** utilizando os dados carregados pelo `DataLoader`, avaliando o desempenho via **validação cruzada (K-Fold)**."
   ]
  },
  {
   "cell_type": "code",
   "execution_count": null,
   "id": "fbd58443",
   "metadata": {},
   "outputs": [],
   "source": [
    "import numpy as np\n",
    "import tensorflow as tf\n",
    "from sklearn.model_selection import KFold\n",
    "from sklearn.metrics import accuracy_score\n",
    "from tensorflow.keras.applications import VGG16\n",
    "from tensorflow.keras import layers, models\n",
    "from tensorflow.keras.utils import to_categorical\n",
    "import os\n",
    "import cv2\n",
    "\n",
    "from get_data_from_db import DataLoader\n",
    "\n",
    "# Inicializa o DataLoader\n",
    "data_loader = DataLoader()\n",
    "\n",
    "# Carrega os dados de treino com labels\n",
    "train_data_with_labels = data_loader.get_train_data()\n",
    "print(f\"Total de amostras de treino: {len(train_data_with_labels)}\")\n",
    "\n",
    "IMG_SIZE = (224, 224)  # padrão para VGG16\n",
    "X, y = [], []\n",
    "\n",
    "# Reconstruindo caminho absoluto corretamente\n",
    "for filename, label in train_data_with_labels:\n",
    "    if label == 0:\n",
    "        filepath = os.path.join(data_loader.train_normal_path, filename)\n",
    "    elif label == 1:\n",
    "        filepath = os.path.join(data_loader.train_ulcerative_colitis_path, filename)\n",
    "    elif label == 2:\n",
    "        filepath = os.path.join(data_loader.train_polyps_path, filename)\n",
    "    elif label == 3:\n",
    "        filepath = os.path.join(data_loader.train_esophagitis_path, filename)\n",
    "    else:\n",
    "        continue\n",
    "\n",
    "    img = cv2.imread(filepath)\n",
    "    if img is None:\n",
    "        print(f\"[AVISO] Não foi possível carregar: {filepath}\")\n",
    "        continue\n",
    "    \n",
    "    img = cv2.resize(img, IMG_SIZE)\n",
    "    X.append(img)\n",
    "    y.append(label)\n",
    "\n",
    "X = np.array(X, dtype=\"float32\") / 255.0\n",
    "y = to_categorical(np.array(y))\n",
    "\n",
    "print(f\"Formato de X: {X.shape}\")\n",
    "print(f\"Formato de y: {y.shape}\")\n"
   ]
  },
  {
   "cell_type": "code",
   "execution_count": null,
   "id": "87f5af78",
   "metadata": {},
   "outputs": [],
   "source": [
    "\n",
    "def create_vgg_model(input_shape=(224, 224, 3), num_classes=4):\n",
    "    base_model = VGG16(weights=\"imagenet\", include_top=False, input_shape=input_shape)\n",
    "    base_model.trainable = False  # Transfer learning (congela base)\n",
    "    \n",
    "    model = models.Sequential([\n",
    "        base_model,\n",
    "        layers.Flatten(),\n",
    "        layers.Dense(256, activation=\"relu\"),\n",
    "        layers.Dropout(0.5),\n",
    "        layers.Dense(num_classes, activation=\"softmax\")\n",
    "    ])\n",
    "    \n",
    "    model.compile(optimizer=\"adam\", loss=\"categorical_crossentropy\", metrics=[\"accuracy\"])\n",
    "    return model\n"
   ]
  },
  {
   "cell_type": "code",
   "execution_count": null,
   "id": "003dda30",
   "metadata": {},
   "outputs": [],
   "source": [
    "\n",
    "kf = KFold(n_splits=3, shuffle=True, random_state=42)\n",
    "\n",
    "accuracies = []\n",
    "\n",
    "for fold, (train_idx, val_idx) in enumerate(kf.split(X)):\n",
    "    print(f\"Treinando fold {fold+1}...\")\n",
    "    \n",
    "    x_train_cv, x_val_cv = X[train_idx], X[val_idx]\n",
    "    y_train_cv, y_val_cv = y[train_idx], y[val_idx]\n",
    "    \n",
    "    model = create_vgg_model(input_shape=(224, 224, 3), num_classes=y.shape[1])\n",
    "    model.fit(x_train_cv, y_train_cv, \n",
    "              epochs=5, batch_size=32, \n",
    "              validation_data=(x_val_cv, y_val_cv), verbose=1)\n",
    "    \n",
    "    _, acc = model.evaluate(x_val_cv, y_val_cv, verbose=0)\n",
    "    accuracies.append(acc)\n",
    "    \n",
    "print(\"Acurácias por fold:\", accuracies)\n",
    "print(\"Acurácia média:\", np.mean(accuracies))\n"
   ]
  }
 ],
 "metadata": {
  "kernelspec": {
   "display_name": "xaropinho",
   "language": "python",
   "name": "python3"
  },
  "language_info": {
   "codemirror_mode": {
    "name": "ipython",
    "version": 3
   },
   "file_extension": ".py",
   "mimetype": "text/x-python",
   "name": "python",
   "nbconvert_exporter": "python",
   "pygments_lexer": "ipython3",
   "version": "3.13.2"
  }
 },
 "nbformat": 4,
 "nbformat_minor": 5
}
