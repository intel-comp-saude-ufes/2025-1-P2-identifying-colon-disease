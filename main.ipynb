{
  "cells": [
    {
      "cell_type": "markdown",
      "id": "78d2b54c",
      "metadata": {
        "id": "78d2b54c"
      },
      "source": [
        "# VGG16 com Validação Cruzada\n",
        "Este notebook aplica a rede **VGG16** utilizando os dados carregados pelo `DataLoader`, avaliando o desempenho via **validação cruzada (K-Fold)**."
      ]
    },
    {
      "cell_type": "markdown",
      "id": "a1710239",
      "metadata": {
        "id": "a1710239"
      },
      "source": [
        "# Importações Necessárias"
      ]
    },
    {
      "cell_type": "code",
      "execution_count": 1,
      "id": "fbd58443",
      "metadata": {
        "id": "fbd58443"
      },
      "outputs": [
        {
          "name": "stderr",
          "output_type": "stream",
          "text": [
            "C:\\Users\\Matheus\\AppData\\Local\\Packages\\PythonSoftwareFoundation.Python.3.13_qbz5n2kfra8p0\\LocalCache\\local-packages\\Python313\\site-packages\\tqdm\\auto.py:21: TqdmWarning: IProgress not found. Please update jupyter and ipywidgets. See https://ipywidgets.readthedocs.io/en/stable/user_install.html\n",
            "  from .autonotebook import tqdm as notebook_tqdm\n"
          ]
        }
      ],
      "source": [
        "import numpy as np\n",
        "import tensorflow as tf\n",
        "from sklearn.model_selection import KFold\n",
        "from sklearn.metrics import accuracy_score\n",
        "from tensorflow.keras.utils import to_categorical\n",
        "import os\n",
        "import cv2\n",
        "from sklearn.metrics import confusion_matrix, classification_report\n",
        "import seaborn as sns\n",
        "import matplotlib.pyplot as plt\n",
        "import numpy as np\n",
        "#from tensorflow.keras.applications.efficientnet import preprocess_input # Pra conseguir treinar a efficient net\n",
        "from tensorflow.keras.applications.resnet50 import preprocess_input\n",
        "\n",
        "# Imports de classes dentro do projeto\n",
        "from get_data_from_db import DataLoader\n",
        "from create_model import create_vgg_model, create_efficientnet_model, create_resnet_model\n"
      ]
    },
    {
      "cell_type": "markdown",
      "id": "4aeb2faa",
      "metadata": {
        "id": "4aeb2faa"
      },
      "source": [
        "# Obtendo os dados de treino"
      ]
    },
    {
      "cell_type": "code",
      "execution_count": null,
      "id": "cf93da84",
      "metadata": {
        "colab": {
          "base_uri": "https://localhost:8080/"
        },
        "id": "cf93da84",
        "outputId": "38446616-1aca-43c8-af7c-600a89c37534"
      },
      "outputs": [
        {
          "name": "stdout",
          "output_type": "stream",
          "text": [
            "Dataset downloaded/cached at: C:\\Users\\Matheus\\.cache\\kagglehub\\datasets\\francismon\\curated-colon-dataset-for-deep-learning\\versions\\1\n",
            "Total de amostras (train + val): 5200\n",
            "Formato de X: (5200, 224, 224, 3)\n",
            "Formato de y: (5200, 4)\n"
          ]
        }
      ],
      "source": [
        "# Inicializa o DataLoader\n",
        "data_loader = DataLoader()\n",
        "\n",
        "# Carrega os dados de treino e validação com labels\n",
        "train_data_with_labels = data_loader.get_train_data()   # dados de treino\n",
        "val_data_with_labels   = data_loader.get_val_data()     # dados de validação\n",
        "\n",
        "# Junta os dois conjuntos\n",
        "all_data_with_labels = train_data_with_labels + val_data_with_labels\n",
        "print(f\"Total de amostras (train + val): {len(all_data_with_labels)}\")\n",
        "\n",
        "IMG_SIZE = (224, 224)  # padrão para VGG16\n",
        "X, y = [], []  # Vetores que vão armazenar os dados\n",
        "\n",
        "# Reconstruindo caminho absoluto corretamente\n",
        "for filename, label in all_data_with_labels:\n",
        "    if label == 0:\n",
        "        filepath = os.path.join(data_loader.train_normal_path, filename) \\\n",
        "                   if filename in os.listdir(data_loader.train_normal_path) \\\n",
        "                   else os.path.join(data_loader.val_normal_path, filename)\n",
        "    elif label == 1:\n",
        "        filepath = os.path.join(data_loader.train_ulcerative_colitis_path, filename) \\\n",
        "                   if filename in os.listdir(data_loader.train_ulcerative_colitis_path) \\\n",
        "                   else os.path.join(data_loader.val_ulcerative_colitis_path, filename)\n",
        "    elif label == 2:\n",
        "        filepath = os.path.join(data_loader.train_polyps_path, filename) \\\n",
        "                   if filename in os.listdir(data_loader.train_polyps_path) \\\n",
        "                   else os.path.join(data_loader.val_polyps_path, filename)\n",
        "    elif label == 3:\n",
        "        filepath = os.path.join(data_loader.train_esophagitis_path, filename) \\\n",
        "                   if filename in os.listdir(data_loader.train_esophagitis_path) \\\n",
        "                   else os.path.join(data_loader.val_esophagitis_path, filename)\n",
        "    else:\n",
        "        continue\n",
        "\n",
        "    img = cv2.imread(filepath)\n",
        "    if img is None:\n",
        "        print(f\"[AVISO] Não foi possível carregar: {filepath}\")\n",
        "        continue\n",
        "\n",
        "    img = cv2.resize(img, IMG_SIZE)\n",
        "    X.append(img)\n",
        "    y.append(label)\n",
        "\n",
        "X = np.array(X, dtype=\"float32\")\n",
        "y = to_categorical(np.array(y))\n",
        "\n",
        "print(f\"Formato de X: {X.shape}\")\n",
        "print(f\"Formato de y: {y.shape}\")\n"
      ]
    },
    {
      "cell_type": "markdown",
      "id": "2sXklu3HDHxr",
      "metadata": {
        "id": "2sXklu3HDHxr"
      },
      "source": [
        "# VGG16"
      ]
    },
    {
      "cell_type": "markdown",
      "id": "5273fd6d",
      "metadata": {
        "id": "5273fd6d"
      },
      "source": [
        "## Treinamento com Validação Cruzada"
      ]
    },
    {
      "cell_type": "code",
      "execution_count": 3,
      "id": "003dda30",
      "metadata": {
        "colab": {
          "base_uri": "https://localhost:8080/"
        },
        "id": "003dda30",
        "outputId": "04ea29e9-6fdd-4efa-956b-32cd35b27d55"
      },
      "outputs": [
        {
          "name": "stdout",
          "output_type": "stream",
          "text": [
            "Treinando fold 1...\n",
            "Epoch 1/4\n",
            "\u001b[1m82/82\u001b[0m \u001b[32m━━━━━━━━━━━━━━━━━━━━\u001b[0m\u001b[37m\u001b[0m \u001b[1m468s\u001b[0m 6s/step - accuracy: 0.8877 - loss: 6.7889 - val_accuracy: 0.9842 - val_loss: 0.4000\n",
            "Epoch 2/4\n",
            "\u001b[1m82/82\u001b[0m \u001b[32m━━━━━━━━━━━━━━━━━━━━\u001b[0m\u001b[37m\u001b[0m \u001b[1m463s\u001b[0m 6s/step - accuracy: 0.9685 - loss: 0.9527 - val_accuracy: 0.9592 - val_loss: 0.9970\n",
            "Epoch 3/4\n",
            "\u001b[1m82/82\u001b[0m \u001b[32m━━━━━━━━━━━━━━━━━━━━\u001b[0m\u001b[37m\u001b[0m \u001b[1m442s\u001b[0m 5s/step - accuracy: 0.9827 - loss: 0.3368 - val_accuracy: 0.9762 - val_loss: 0.5045\n",
            "Epoch 4/4\n",
            "\u001b[1m82/82\u001b[0m \u001b[32m━━━━━━━━━━━━━━━━━━━━\u001b[0m\u001b[37m\u001b[0m \u001b[1m468s\u001b[0m 6s/step - accuracy: 0.9815 - loss: 0.4293 - val_accuracy: 0.9819 - val_loss: 0.5013\n",
            "Treinando fold 2...\n",
            "Epoch 1/4\n",
            "\u001b[1m82/82\u001b[0m \u001b[32m━━━━━━━━━━━━━━━━━━━━\u001b[0m\u001b[37m\u001b[0m \u001b[1m484s\u001b[0m 6s/step - accuracy: 0.9035 - loss: 5.2857 - val_accuracy: 0.9715 - val_loss: 0.8597\n",
            "Epoch 2/4\n",
            "\u001b[1m82/82\u001b[0m \u001b[32m━━━━━━━━━━━━━━━━━━━━\u001b[0m\u001b[37m\u001b[0m \u001b[1m474s\u001b[0m 6s/step - accuracy: 0.9658 - loss: 0.9392 - val_accuracy: 0.9785 - val_loss: 0.5656\n",
            "Epoch 3/4\n",
            "\u001b[1m82/82\u001b[0m \u001b[32m━━━━━━━━━━━━━━━━━━━━\u001b[0m\u001b[37m\u001b[0m \u001b[1m480s\u001b[0m 6s/step - accuracy: 0.9746 - loss: 0.4222 - val_accuracy: 0.9750 - val_loss: 0.4664\n",
            "Epoch 4/4\n",
            "\u001b[1m82/82\u001b[0m \u001b[32m━━━━━━━━━━━━━━━━━━━━\u001b[0m\u001b[37m\u001b[0m \u001b[1m472s\u001b[0m 6s/step - accuracy: 0.9796 - loss: 0.3456 - val_accuracy: 0.9819 - val_loss: 0.4565\n",
            "Acurácias por fold: [0.9819231033325195, 0.9819231033325195]\n",
            "Acurácia média: 0.9819231033325195\n"
          ]
        }
      ],
      "source": [
        "\n",
        "#Vai aplicar a validação cruzada K-Fold\n",
        "n_folds = 2\n",
        "kf = KFold(n_splits=n_folds, shuffle=True, random_state=42)\n",
        "\n",
        "accuracies = []\n",
        "\n",
        "for fold, (train_idx, val_idx) in enumerate(kf.split(X)):\n",
        "    print(f\"Treinando fold {fold+1}...\")\n",
        "\n",
        "    x_train_cv, x_val_cv = X[train_idx], X[val_idx]\n",
        "    y_train_cv, y_val_cv = y[train_idx], y[val_idx]\n",
        "\n",
        "    model = create_vgg_model(input_shape=(224, 224, 3), num_classes=y.shape[1])\n",
        "    model.fit(x_train_cv, y_train_cv,\n",
        "              epochs=4, batch_size=32,\n",
        "              validation_data=(x_val_cv, y_val_cv), verbose=1)\n",
        "\n",
        "    _, acc = model.evaluate(x_val_cv, y_val_cv, verbose=0)\n",
        "    accuracies.append(acc)\n",
        "\n",
        "print(\"Acurácias por fold:\", accuracies)\n",
        "print(\"Acurácia média:\", np.mean(accuracies))\n"
      ]
    },
    {
      "cell_type": "markdown",
      "id": "81dfd8e0",
      "metadata": {
        "id": "81dfd8e0"
      },
      "source": [
        "## Testando"
      ]
    },
    {
      "cell_type": "code",
      "execution_count": 4,
      "id": "5f1c38ef",
      "metadata": {
        "id": "5f1c38ef"
      },
      "outputs": [
        {
          "name": "stdout",
          "output_type": "stream",
          "text": [
            "Total de amostras de teste: 800\n",
            "Formato de X_test: (800, 224, 224, 3)\n",
            "Formato de y_test: (800, 4)\n",
            "\u001b[1m25/25\u001b[0m \u001b[32m━━━━━━━━━━━━━━━━━━━━\u001b[0m\u001b[37m\u001b[0m \u001b[1m68s\u001b[0m 3s/step - accuracy: 0.4638 - loss: 1.0541\n",
            "[TESTE FINAL] Loss: 1.0541, Acurácia: 0.4638\n"
          ]
        }
      ],
      "source": [
        "# Pega todos os arquivos de teste com labels\n",
        "test_files_with_labels = data_loader.get_test_data()\n",
        "print(f\"Total de amostras de teste: {len(test_files_with_labels)}\")\n",
        "\n",
        "IMG_SIZE = (224, 224)\n",
        "X_test, y_test = [], []\n",
        "\n",
        "# Carrega e processa as imagens de teste\n",
        "for filename, label in test_files_with_labels:\n",
        "    if label == 0:\n",
        "        filepath = os.path.join(data_loader.test_normal_path, filename)\n",
        "    elif label == 1:\n",
        "        filepath = os.path.join(data_loader.test_ulcerative_colitis_path, filename)\n",
        "    elif label == 2:\n",
        "        filepath = os.path.join(data_loader.test_polyps_path, filename)\n",
        "    elif label == 3:\n",
        "        filepath = os.path.join(data_loader.test_esophagitis_path, filename)\n",
        "    else:\n",
        "        continue\n",
        "\n",
        "    img = cv2.imread(filepath)\n",
        "    if img is None:\n",
        "        print(f\"[AVISO] Não foi possível carregar: {filepath}\")\n",
        "        continue\n",
        "\n",
        "    img = cv2.resize(img, IMG_SIZE)\n",
        "    X_test.append(img)\n",
        "    y_test.append(label)\n",
        "\n",
        "# Normaliza e converte para categorical\n",
        "X_test = np.array(X_test, dtype=\"float32\") / 255.0\n",
        "y_test = to_categorical(np.array(y_test))\n",
        "\n",
        "print(f\"Formato de X_test: {X_test.shape}\")\n",
        "print(f\"Formato de y_test: {y_test.shape}\")\n",
        "\n",
        "# Avalia o modelo já treinado\n",
        "loss, acc = model.evaluate(X_test, y_test, verbose=1)\n",
        "print(f\"[TESTE FINAL] Loss: {loss:.4f}, Acurácia: {acc:.4f}\")\n"
      ]
    },
    {
      "cell_type": "markdown",
      "id": "71e01f96",
      "metadata": {
        "id": "71e01f96"
      },
      "source": [
        "## Grafico de Matriz de Confusão"
      ]
    },
    {
      "cell_type": "code",
      "execution_count": 6,
      "id": "248fafe1",
      "metadata": {
        "id": "248fafe1"
      },
      "outputs": [
        {
          "name": "stdout",
          "output_type": "stream",
          "text": [
            "\u001b[1m25/25\u001b[0m \u001b[32m━━━━━━━━━━━━━━━━━━━━\u001b[0m\u001b[37m\u001b[0m \u001b[1m70s\u001b[0m 3s/step\n"
          ]
        },
        {
          "data": {
            "image/png": "[encoded data removed]",
            "text/plain": [
              "<Figure size 700x600 with 2 Axes>"
            ]
          },
          "metadata": {},
          "output_type": "display_data"
        },
        {
          "name": "stdout",
          "output_type": "stream",
          "text": [
            "\n",
            "Relatório de Classificação:\n",
            "                    precision    recall  f1-score   support\n",
            "\n",
            "            Normal       0.00      0.00      0.00       200\n",
            "Ulcerative Colitis       1.00      0.04      0.07       200\n",
            "            Polyps       0.32      0.99      0.48       200\n",
            "       Esophagitis       0.98      0.82      0.89       200\n",
            "\n",
            "          accuracy                           0.46       800\n",
            "         macro avg       0.57      0.46      0.36       800\n",
            "      weighted avg       0.57      0.46      0.36       800\n",
            "\n"
          ]
        },
        {
          "name": "stderr",
          "output_type": "stream",
          "text": [
            "C:\\Users\\Matheus\\AppData\\Local\\Packages\\PythonSoftwareFoundation.Python.3.13_qbz5n2kfra8p0\\LocalCache\\local-packages\\Python313\\site-packages\\sklearn\\metrics\\_classification.py:1706: UndefinedMetricWarning: Precision is ill-defined and being set to 0.0 in labels with no predicted samples. Use `zero_division` parameter to control this behavior.\n",
            "  _warn_prf(average, modifier, f\"{metric.capitalize()} is\", result.shape[0])\n",
            "C:\\Users\\Matheus\\AppData\\Local\\Packages\\PythonSoftwareFoundation.Python.3.13_qbz5n2kfra8p0\\LocalCache\\local-packages\\Python313\\site-packages\\sklearn\\metrics\\_classification.py:1706: UndefinedMetricWarning: Precision is ill-defined and being set to 0.0 in labels with no predicted samples. Use `zero_division` parameter to control this behavior.\n",
            "  _warn_prf(average, modifier, f\"{metric.capitalize()} is\", result.shape[0])\n",
            "C:\\Users\\Matheus\\AppData\\Local\\Packages\\PythonSoftwareFoundation.Python.3.13_qbz5n2kfra8p0\\LocalCache\\local-packages\\Python313\\site-packages\\sklearn\\metrics\\_classification.py:1706: UndefinedMetricWarning: Precision is ill-defined and being set to 0.0 in labels with no predicted samples. Use `zero_division` parameter to control this behavior.\n",
            "  _warn_prf(average, modifier, f\"{metric.capitalize()} is\", result.shape[0])\n"
          ]
        }
      ],
      "source": [
        "# Converte y_test e predições de volta para labels inteiros\n",
        "predicoes = model.predict(X_test)\n",
        "y_true = np.argmax(y_test, axis=1)\n",
        "y_pred = np.argmax(predicoes, axis=1)\n",
        "\n",
        "# Labels das classes\n",
        "classes = [\"Normal\", \"Ulcerative Colitis\", \"Polyps\", \"Esophagitis\"]\n",
        "\n",
        "# Calcula a matriz de confusão\n",
        "cm = confusion_matrix(y_true, y_pred)\n",
        "\n",
        "# Plota matriz de confusão\n",
        "plt.figure(figsize=(7,6))\n",
        "sns.heatmap(cm, annot=True, fmt='d', cmap='Blues', xticklabels=classes, yticklabels=classes)\n",
        "plt.ylabel('Classe Verdadeira')\n",
        "plt.xlabel('Classe Predita')\n",
        "plt.title('Matriz de Confusão - Teste')\n",
        "plt.show()\n",
        "\n",
        "# Relatório de classificação completo\n",
        "print(\"\\nRelatório de Classificação:\")\n",
        "print(classification_report(y_true, y_pred, target_names=classes))\n"
      ]
    },
    {
      "cell_type": "markdown",
      "id": "dHFtOqyM-mU8",
      "metadata": {
        "id": "dHFtOqyM-mU8"
      },
      "source": [
        "# EfficientNet"
      ]
    },
    {
      "cell_type": "code",
      "execution_count": null,
      "id": "y1P8MqZa8LQN",
      "metadata": {
        "id": "y1P8MqZa8LQN"
      },
      "outputs": [],
      "source": [
        "\n",
        "#Vai aplicar a validação cruzada K-Fold\n",
        "n_folds = 3\n",
        "kf = KFold(n_splits=n_folds, shuffle=True, random_state=42)\n",
        "\n",
        "accuracies = []\n",
        "\n",
        "for fold, (train_idx, val_idx) in enumerate(kf.split(X)):\n",
        "    print(f\"Treinando fold {fold+1}...\")\n",
        "\n",
        "    x_train_cv, x_val_cv = X[train_idx], X[val_idx]\n",
        "    y_train_cv, y_val_cv = y[train_idx], y[val_idx]\n",
        "\n",
        "    # Normalização específica do EfficientNet\n",
        "    x_train_cv = preprocess_input(x_train_cv)\n",
        "    x_val_cv   = preprocess_input(x_val_cv)\n",
        "\n",
        "\n",
        "    model = create_efficientnet_model(input_shape=(224, 224, 3), num_classes=y.shape[1])\n",
        "    model.fit(x_train_cv, y_train_cv,\n",
        "              epochs=20, batch_size=32,\n",
        "              validation_data=(x_val_cv, y_val_cv), verbose=1)\n",
        "\n",
        "    _, acc = model.evaluate(x_val_cv, y_val_cv, verbose=0)\n",
        "    accuracies.append(acc)\n",
        "\n",
        "print(\"Acurácias por fold:\", accuracies)\n",
        "print(\"Acurácia média:\", np.mean(accuracies))\n"
      ]
    },
    {
      "cell_type": "markdown",
      "id": "_oUNRjHKCJaL",
      "metadata": {
        "id": "_oUNRjHKCJaL"
      },
      "source": [
        "# ResNet"
      ]
    },
    {
      "cell_type": "markdown",
      "id": "qqPWps1mJZqa",
      "metadata": {
        "id": "qqPWps1mJZqa"
      },
      "source": [
        "## Treinando com validação cruzada"
      ]
    },
    {
      "cell_type": "code",
      "execution_count": null,
      "id": "IzKxVXLUCLOY",
      "metadata": {
        "id": "IzKxVXLUCLOY"
      },
      "outputs": [],
      "source": [
        "# Vai aplicar a validação cruzada K-Fold\n",
        "n_folds = 3\n",
        "kf = KFold(n_splits=n_folds, shuffle=True, random_state=42)\n",
        "\n",
        "accuracies = []\n",
        "\n",
        "for fold, (train_idx, val_idx) in enumerate(kf.split(X)):\n",
        "    print(f\"Treinando fold {fold+1}...\")\n",
        "\n",
        "    x_train_cv, x_val_cv = X[train_idx], X[val_idx]\n",
        "    y_train_cv, y_val_cv = y[train_idx], y[val_idx]\n",
        "\n",
        "    # Normalização específica da ResNet50\n",
        "    x_train_cv = preprocess_input(x_train_cv)\n",
        "    x_val_cv   = preprocess_input(x_val_cv)\n",
        "\n",
        "    model = create_resnet_model(input_shape=(224, 224, 3), num_classes=y.shape[1])\n",
        "    model.fit(x_train_cv, y_train_cv,\n",
        "              epochs=10, batch_size=32,\n",
        "              validation_data=(x_val_cv, y_val_cv), verbose=1)\n",
        "\n",
        "    _, acc = model.evaluate(x_val_cv, y_val_cv, verbose=0)\n",
        "    accuracies.append(acc)\n",
        "\n",
        "print(\"Acurácias por fold:\", accuracies)\n",
        "print(\"Acurácia média:\", np.mean(accuracies))\n"
      ]
    },
    {
      "cell_type": "markdown",
      "id": "5DXUiw4KJdQK",
      "metadata": {
        "id": "5DXUiw4KJdQK"
      },
      "source": [
        "## Testando"
      ]
    },
    {
      "cell_type": "code",
      "execution_count": null,
      "id": "vhYTXiB_Je1A",
      "metadata": {
        "id": "vhYTXiB_Je1A"
      },
      "outputs": [],
      "source": [
        "# Pega todos os arquivos de teste com labels\n",
        "test_files_with_labels = data_loader.get_test_data()\n",
        "print(f\"Total de amostras de teste: {len(test_files_with_labels)}\")\n",
        "\n",
        "IMG_SIZE = (224, 224)\n",
        "X_test, y_test = [], []\n",
        "\n",
        "# Carrega e processa as imagens de teste\n",
        "for filename, label in test_files_with_labels:\n",
        "    if label == 0:\n",
        "        filepath = os.path.join(data_loader.test_normal_path, filename)\n",
        "    elif label == 1:\n",
        "        filepath = os.path.join(data_loader.test_ulcerative_colitis_path, filename)\n",
        "    elif label == 2:\n",
        "        filepath = os.path.join(data_loader.test_polyps_path, filename)\n",
        "    elif label == 3:\n",
        "        filepath = os.path.join(data_loader.test_esophagitis_path, filename)\n",
        "    else:\n",
        "        continue\n",
        "\n",
        "    img = cv2.imread(filepath)\n",
        "    if img is None:\n",
        "        print(f\"[AVISO] Não foi possível carregar: {filepath}\")\n",
        "        continue\n",
        "\n",
        "    img = cv2.resize(img, IMG_SIZE)\n",
        "    X_test.append(img)\n",
        "    y_test.append(label)\n",
        "\n",
        "# Normaliza e converte para categorical\n",
        "X_test = np.array(X_test, dtype=\"float32\") / 255.0\n",
        "y_test = to_categorical(np.array(y_test))\n",
        "\n",
        "print(f\"Formato de X_test: {X_test.shape}\")\n",
        "print(f\"Formato de y_test: {y_test.shape}\")\n",
        "\n",
        "# Avalia o modelo já treinado\n",
        "loss, acc = model.evaluate(X_test, y_test, verbose=1)\n",
        "print(f\"[TESTE FINAL] Loss: {loss:.4f}, Acurácia: {acc:.4f}\")\n"
      ]
    }
  ],
  "metadata": {
    "accelerator": "GPU",
    "colab": {
      "collapsed_sections": [
        "a1710239",
        "81dfd8e0",
        "71e01f96",
        "dHFtOqyM-mU8"
      ],
      "gpuType": "T4",
      "provenance": []
    },
    "kernelspec": {
      "display_name": "Python 3",
      "name": "python3"
    },
    "language_info": {
      "codemirror_mode": {
        "name": "ipython",
        "version": 3
      },
      "file_extension": ".py",
      "mimetype": "text/x-python",
      "name": "python",
      "nbconvert_exporter": "python",
      "pygments_lexer": "ipython3",
      "version": "3.13.7"
    }
  },
  "nbformat": 4,
  "nbformat_minor": 5
}
