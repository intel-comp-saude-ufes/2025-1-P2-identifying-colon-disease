{
  "cells": [
    {
      "cell_type": "markdown",
      "id": "78d2b54c",
      "metadata": {
        "id": "78d2b54c"
      },
      "source": [
        "# VGG16 com Validação Cruzada\n",
        "Este notebook aplica a rede **VGG16** utilizando os dados carregados pelo `DataLoader`, avaliando o desempenho via **validação cruzada (K-Fold)**."
      ]
    },
    {
      "cell_type": "markdown",
      "id": "a1710239",
      "metadata": {
        "id": "a1710239"
      },
      "source": [
        "# Importações Necessárias"
      ]
    },
    {
      "cell_type": "code",
      "execution_count": 7,
      "id": "fbd58443",
      "metadata": {
        "id": "fbd58443"
      },
      "outputs": [],
      "source": [
        "import numpy as np\n",
        "import tensorflow as tf\n",
        "from sklearn.model_selection import KFold\n",
        "from sklearn.metrics import accuracy_score\n",
        "from tensorflow.keras.utils import to_categorical\n",
        "import os\n",
        "import cv2\n",
        "from sklearn.metrics import confusion_matrix, classification_report\n",
        "import seaborn as sns\n",
        "import matplotlib.pyplot as plt\n",
        "import numpy as np\n",
        "#from tensorflow.keras.applications.efficientnet import preprocess_input # Pra conseguir treinar a efficient net\n",
        "from tensorflow.keras.applications.resnet50 import preprocess_input\n",
        "\n",
        "# Imports de classes dentro do projeto\n",
        "from get_data_from_db import DataLoader\n",
        "from create_model import create_vgg_model, create_efficientnet_model, create_resnet_model\n"
      ]
    },
    {
      "cell_type": "markdown",
      "id": "4aeb2faa",
      "metadata": {
        "id": "4aeb2faa"
      },
      "source": [
        "# Obtendo os dados de treino"
      ]
    },
    {
      "cell_type": "code",
      "execution_count": 8,
      "id": "cf93da84",
      "metadata": {
        "colab": {
          "base_uri": "https://localhost:8080/"
        },
        "id": "cf93da84",
        "outputId": "38446616-1aca-43c8-af7c-600a89c37534"
      },
      "outputs": [
        {
          "name": "stdout",
          "output_type": "stream",
          "text": [
            "Dataset downloaded/cached at: C:\\Users\\Matheus\\.cache\\kagglehub\\datasets\\francismon\\curated-colon-dataset-for-deep-learning\\versions\\1\n",
            "Total de amostras (train + val): 3200\n",
            "Formato de X: (3200, 224, 224, 3)\n",
            "Formato de y: (3200, 4)\n"
          ]
        }
      ],
      "source": [
        "# Inicializa o DataLoader\n",
        "data_loader = DataLoader()\n",
        "\n",
        "# Carrega os dados de treino e validação com labels\n",
        "train_data_with_labels = data_loader.get_train_data()   # dados de treino\n",
        "val_data_with_labels   = list()     # dados de validação\n",
        "\n",
        "# Junta os dois conjuntos\n",
        "all_data_with_labels = train_data_with_labels + val_data_with_labels\n",
        "print(f\"Total de amostras (train + val): {len(all_data_with_labels)}\")\n",
        "\n",
        "IMG_SIZE = (224, 224)  # padrão para VGG16\n",
        "X, y = [], []  # Vetores que vão armazenar os dados\n",
        "\n",
        "# Reconstruindo caminho absoluto corretamente\n",
        "for filename, label in all_data_with_labels:\n",
        "    if label == 0:\n",
        "        filepath = os.path.join(data_loader.train_normal_path, filename) \\\n",
        "                   if filename in os.listdir(data_loader.train_normal_path) \\\n",
        "                   else os.path.join(data_loader.val_normal_path, filename)\n",
        "    elif label == 1:\n",
        "        filepath = os.path.join(data_loader.train_ulcerative_colitis_path, filename) \\\n",
        "                   if filename in os.listdir(data_loader.train_ulcerative_colitis_path) \\\n",
        "                   else os.path.join(data_loader.val_ulcerative_colitis_path, filename)\n",
        "    elif label == 2:\n",
        "        filepath = os.path.join(data_loader.train_polyps_path, filename) \\\n",
        "                   if filename in os.listdir(data_loader.train_polyps_path) \\\n",
        "                   else os.path.join(data_loader.val_polyps_path, filename)\n",
        "    elif label == 3:\n",
        "        filepath = os.path.join(data_loader.train_esophagitis_path, filename) \\\n",
        "                   if filename in os.listdir(data_loader.train_esophagitis_path) \\\n",
        "                   else os.path.join(data_loader.val_esophagitis_path, filename)\n",
        "    else:\n",
        "        continue\n",
        "\n",
        "    img = cv2.imread(filepath)\n",
        "    if img is None:\n",
        "        print(f\"[AVISO] Não foi possível carregar: {filepath}\")\n",
        "        continue\n",
        "\n",
        "    img = cv2.resize(img, IMG_SIZE)\n",
        "    X.append(img)\n",
        "    y.append(label)\n",
        "\n",
        "X = np.array(X, dtype=\"float32\")\n",
        "y = to_categorical(np.array(y))\n",
        "\n",
        "print(f\"Formato de X: {X.shape}\")\n",
        "print(f\"Formato de y: {y.shape}\")\n"
      ]
    },
    {
      "cell_type": "markdown",
      "id": "2sXklu3HDHxr",
      "metadata": {
        "id": "2sXklu3HDHxr"
      },
      "source": [
        "# VGG16"
      ]
    },
    {
      "cell_type": "markdown",
      "id": "5273fd6d",
      "metadata": {
        "id": "5273fd6d"
      },
      "source": [
        "## Treinamento com Validação Cruzada"
      ]
    },
    {
      "cell_type": "code",
      "execution_count": 9,
      "id": "003dda30",
      "metadata": {
        "colab": {
          "base_uri": "https://localhost:8080/"
        },
        "id": "003dda30",
        "outputId": "04ea29e9-6fdd-4efa-956b-32cd35b27d55"
      },
      "outputs": [
        {
          "name": "stdout",
          "output_type": "stream",
          "text": [
            "Treinando fold 1...\n",
            "Epoch 1/4\n",
            "\u001b[1m50/50\u001b[0m \u001b[32m━━━━━━━━━━━━━━━━━━━━\u001b[0m\u001b[37m\u001b[0m \u001b[1m296s\u001b[0m 6s/step - accuracy: 0.8875 - loss: 8.9354 - val_accuracy: 0.9850 - val_loss: 0.7808\n",
            "Epoch 2/4\n",
            "\u001b[1m50/50\u001b[0m \u001b[32m━━━━━━━━━━━━━━━━━━━━\u001b[0m\u001b[37m\u001b[0m \u001b[1m281s\u001b[0m 6s/step - accuracy: 0.9844 - loss: 0.8602 - val_accuracy: 0.9806 - val_loss: 0.9603\n",
            "Epoch 3/4\n",
            "\u001b[1m50/50\u001b[0m \u001b[32m━━━━━━━━━━━━━━━━━━━━\u001b[0m\u001b[37m\u001b[0m \u001b[1m273s\u001b[0m 6s/step - accuracy: 0.9856 - loss: 0.5231 - val_accuracy: 0.9825 - val_loss: 0.7892\n",
            "Epoch 4/4\n",
            "\u001b[1m50/50\u001b[0m \u001b[32m━━━━━━━━━━━━━━━━━━━━\u001b[0m\u001b[37m\u001b[0m \u001b[1m270s\u001b[0m 5s/step - accuracy: 0.9869 - loss: 0.4592 - val_accuracy: 0.9825 - val_loss: 0.9262\n",
            "Treinando fold 2...\n",
            "Epoch 1/4\n",
            "\u001b[1m50/50\u001b[0m \u001b[32m━━━━━━━━━━━━━━━━━━━━\u001b[0m\u001b[37m\u001b[0m \u001b[1m270s\u001b[0m 5s/step - accuracy: 0.8819 - loss: 7.4302 - val_accuracy: 0.9550 - val_loss: 1.8265\n",
            "Epoch 2/4\n",
            "\u001b[1m50/50\u001b[0m \u001b[32m━━━━━━━━━━━━━━━━━━━━\u001b[0m\u001b[37m\u001b[0m \u001b[1m270s\u001b[0m 5s/step - accuracy: 0.9719 - loss: 0.9529 - val_accuracy: 0.9819 - val_loss: 0.7415\n",
            "Epoch 3/4\n",
            "\u001b[1m50/50\u001b[0m \u001b[32m━━━━━━━━━━━━━━━━━━━━\u001b[0m\u001b[37m\u001b[0m \u001b[1m273s\u001b[0m 6s/step - accuracy: 0.9844 - loss: 0.7011 - val_accuracy: 0.9819 - val_loss: 0.7867\n",
            "Epoch 4/4\n",
            "\u001b[1m50/50\u001b[0m \u001b[32m━━━━━━━━━━━━━━━━━━━━\u001b[0m\u001b[37m\u001b[0m \u001b[1m276s\u001b[0m 6s/step - accuracy: 0.9825 - loss: 0.5908 - val_accuracy: 0.9887 - val_loss: 0.4120\n",
            "Acurácias por fold: [0.9825000166893005, 0.9887499809265137]\n",
            "Acurácia média: 0.9856249988079071\n"
          ]
        }
      ],
      "source": [
        "\n",
        "#Vai aplicar a validação cruzada K-Fold\n",
        "n_folds = 2\n",
        "kf = KFold(n_splits=n_folds, shuffle=True, random_state=42)\n",
        "\n",
        "accuracies = []\n",
        "\n",
        "for fold, (train_idx, val_idx) in enumerate(kf.split(X)):\n",
        "    print(f\"Treinando fold {fold+1}...\")\n",
        "\n",
        "    x_train_cv, x_val_cv = X[train_idx], X[val_idx]\n",
        "    y_train_cv, y_val_cv = y[train_idx], y[val_idx]\n",
        "\n",
        "    model = create_vgg_model(input_shape=(224, 224, 3), num_classes=y.shape[1])\n",
        "    model.fit(x_train_cv, y_train_cv,\n",
        "              epochs=4, batch_size=32,\n",
        "              validation_data=(x_val_cv, y_val_cv), verbose=1)\n",
        "\n",
        "    _, acc = model.evaluate(x_val_cv, y_val_cv, verbose=0)\n",
        "    accuracies.append(acc)\n",
        "\n",
        "print(\"Acurácias por fold:\", accuracies)\n",
        "print(\"Acurácia média:\", np.mean(accuracies))\n"
      ]
    },
    {
      "cell_type": "markdown",
      "id": "81dfd8e0",
      "metadata": {
        "id": "81dfd8e0"
      },
      "source": [
        "## Testando"
      ]
    },
    {
      "cell_type": "code",
      "execution_count": 10,
      "id": "5f1c38ef",
      "metadata": {
        "id": "5f1c38ef"
      },
      "outputs": [
        {
          "name": "stdout",
          "output_type": "stream",
          "text": [
            "Total de amostras de teste: 800\n",
            "Formato de X_test: (800, 224, 224, 3)\n",
            "Formato de y_test: (800, 4)\n",
            "\u001b[1m25/25\u001b[0m \u001b[32m━━━━━━━━━━━━━━━━━━━━\u001b[0m\u001b[37m\u001b[0m \u001b[1m65s\u001b[0m 3s/step - accuracy: 0.6313 - loss: 0.8126\n",
            "[TESTE FINAL] Loss: 0.8126, Acurácia: 0.6313\n"
          ]
        }
      ],
      "source": [
        "# Pega todos os arquivos de teste com labels\n",
        "test_files_with_labels = data_loader.get_test_data()\n",
        "print(f\"Total de amostras de teste: {len(test_files_with_labels)}\")\n",
        "\n",
        "IMG_SIZE = (224, 224)\n",
        "X_test, y_test = [], []\n",
        "\n",
        "# Carrega e processa as imagens de teste\n",
        "for filename, label in test_files_with_labels:\n",
        "    if label == 0:\n",
        "        filepath = os.path.join(data_loader.test_normal_path, filename)\n",
        "    elif label == 1:\n",
        "        filepath = os.path.join(data_loader.test_ulcerative_colitis_path, filename)\n",
        "    elif label == 2:\n",
        "        filepath = os.path.join(data_loader.test_polyps_path, filename)\n",
        "    elif label == 3:\n",
        "        filepath = os.path.join(data_loader.test_esophagitis_path, filename)\n",
        "    else:\n",
        "        continue\n",
        "\n",
        "    img = cv2.imread(filepath)\n",
        "    if img is None:\n",
        "        print(f\"[AVISO] Não foi possível carregar: {filepath}\")\n",
        "        continue\n",
        "\n",
        "    img = cv2.resize(img, IMG_SIZE)\n",
        "    X_test.append(img)\n",
        "    y_test.append(label)\n",
        "\n",
        "# Normaliza e converte para categorical\n",
        "X_test = np.array(X_test, dtype=\"float32\") / 255.0\n",
        "y_test = to_categorical(np.array(y_test))\n",
        "\n",
        "print(f\"Formato de X_test: {X_test.shape}\")\n",
        "print(f\"Formato de y_test: {y_test.shape}\")\n",
        "\n",
        "# Avalia o modelo já treinado\n",
        "loss, acc = model.evaluate(X_test, y_test, verbose=1)\n",
        "print(f\"[TESTE FINAL] Loss: {loss:.4f}, Acurácia: {acc:.4f}\")\n"
      ]
    },
    {
      "cell_type": "markdown",
      "id": "71e01f96",
      "metadata": {
        "id": "71e01f96"
      },
      "source": [
        "## Grafico de Matriz de Confusão"
      ]
    },
    {
      "cell_type": "code",
      "execution_count": null,
      "id": "248fafe1",
      "metadata": {
        "id": "248fafe1"
      },
      "outputs": [
        {
          "name": "stdout",
          "output_type": "stream",
          "text": [
            "\u001b[1m25/25\u001b[0m \u001b[32m━━━━━━━━━━━━━━━━━━━━\u001b[0m\u001b[37m\u001b[0m \u001b[1m65s\u001b[0m 3s/step\n"
          ]
        },
        {
          "data": {
            "image/png": "[encoded data removed]",
            "text/plain": [
              "<Figure size 700x600 with 2 Axes>"
            ]
          },
          "metadata": {},
          "output_type": "display_data"
        },
        {
          "name": "stdout",
          "output_type": "stream",
          "text": [
            "\n",
            "Relatório de Classificação:\n",
            "                    precision    recall  f1-score   support\n",
            "\n",
            "            Normal       0.98      0.80      0.88       200\n",
            "Ulcerative Colitis       0.40      0.89      0.55       200\n",
            "            Polyps       0.75      0.24      0.36       200\n",
            "       Esophagitis       0.94      0.60      0.73       200\n",
            "\n",
            "          accuracy                           0.63       800\n",
            "         macro avg       0.77      0.63      0.63       800\n",
            "      weighted avg       0.77      0.63      0.63       800\n",
            "\n"
          ]
        }
      ],
      "source": [
        "# Converte y_test e predições de volta para labels inteiros\n",
        "predicoes = model.predict(X_test)\n",
        "y_true = np.argmax(y_test, axis=1)\n",
        "y_pred = np.argmax(predicoes, axis=1)\n",
        "\n",
        "# Labels das classes\n",
        "classes = [\"Normal\", \"Ulcerative Colitis\", \"Polyps\", \"Esophagitis\"]\n",
        "\n",
        "# Calcula a matriz de confusão\n",
        "cm = confusion_matrix(y_true, y_pred)\n",
        "\n",
        "# Plota matriz de confusão\n",
        "plt.figure(figsize=(7,6))\n",
        "sns.heatmap(cm, annot=True, fmt='d', cmap='Blues', xticklabels=classes, yticklabels=classes)\n",
        "plt.ylabel('Classe Verdadeira')\n",
        "plt.xlabel('Classe Predita')\n",
        "plt.title('Matriz de Confusão - Teste')\n",
        "plt.show()\n",
        "\n",
        "# Relatório de classificação completo\n",
        "print(\"\\nRelatório de Classificação:\")\n",
        "print(classification_report(y_true, y_pred, target_names=classes))\n"
      ]
    },
    {
      "cell_type": "markdown",
      "id": "dHFtOqyM-mU8",
      "metadata": {
        "id": "dHFtOqyM-mU8"
      },
      "source": [
        "# EfficientNet"
      ]
    },
    {
      "cell_type": "code",
      "execution_count": 12,
      "id": "y1P8MqZa8LQN",
      "metadata": {
        "id": "y1P8MqZa8LQN"
      },
      "outputs": [
        {
          "name": "stdout",
          "output_type": "stream",
          "text": [
            "Treinando fold 1...\n",
            "Downloading data from https://storage.googleapis.com/keras-applications/efficientnetb0_notop.h5\n",
            "\u001b[1m16705208/16705208\u001b[0m \u001b[32m━━━━━━━━━━━━━━━━━━━━\u001b[0m\u001b[37m\u001b[0m \u001b[1m2s\u001b[0m 0us/step\n"
          ]
        },
        {
          "ename": "ValueError",
          "evalue": "Shape mismatch in layer #1 (named stem_conv)for weight stem_conv/kernel. Weight expects shape (3, 3, 1, 32). Received saved weight with shape (3, 3, 3, 32)",
          "output_type": "error",
          "traceback": [
            "\u001b[31m---------------------------------------------------------------------------\u001b[39m",
            "\u001b[31mValueError\u001b[39m                                Traceback (most recent call last)",
            "\u001b[36mCell\u001b[39m\u001b[36m \u001b[39m\u001b[32mIn[12]\u001b[39m\u001b[32m, line 18\u001b[39m\n\u001b[32m     14\u001b[39m x_train_cv = preprocess_input(x_train_cv)\n\u001b[32m     15\u001b[39m x_val_cv   = preprocess_input(x_val_cv)\n\u001b[32m---> \u001b[39m\u001b[32m18\u001b[39m model = \u001b[43mcreate_efficientnet_model\u001b[49m\u001b[43m(\u001b[49m\u001b[43minput_shape\u001b[49m\u001b[43m=\u001b[49m\u001b[43m(\u001b[49m\u001b[32;43m224\u001b[39;49m\u001b[43m,\u001b[49m\u001b[43m \u001b[49m\u001b[32;43m224\u001b[39;49m\u001b[43m,\u001b[49m\u001b[43m \u001b[49m\u001b[32;43m3\u001b[39;49m\u001b[43m)\u001b[49m\u001b[43m,\u001b[49m\u001b[43m \u001b[49m\u001b[43mnum_classes\u001b[49m\u001b[43m=\u001b[49m\u001b[43my\u001b[49m\u001b[43m.\u001b[49m\u001b[43mshape\u001b[49m\u001b[43m[\u001b[49m\u001b[32;43m1\u001b[39;49m\u001b[43m]\u001b[49m\u001b[43m)\u001b[49m\n\u001b[32m     19\u001b[39m model.fit(x_train_cv, y_train_cv,\n\u001b[32m     20\u001b[39m           epochs=\u001b[32m20\u001b[39m, batch_size=\u001b[32m32\u001b[39m,\n\u001b[32m     21\u001b[39m           validation_data=(x_val_cv, y_val_cv), verbose=\u001b[32m1\u001b[39m)\n\u001b[32m     23\u001b[39m _, acc = model.evaluate(x_val_cv, y_val_cv, verbose=\u001b[32m0\u001b[39m)\n",
            "\u001b[36mFile \u001b[39m\u001b[32mc:\\Users\\Matheus\\Desktop\\T2 IA SAÚDE\\2025-1-P2-identifying-colon-disease\\create_model.py:21\u001b[39m, in \u001b[36mcreate_efficientnet_model\u001b[39m\u001b[34m(input_shape, num_classes)\u001b[39m\n\u001b[32m     20\u001b[39m \u001b[38;5;28;01mdef\u001b[39;00m\u001b[38;5;250m \u001b[39m\u001b[34mcreate_efficientnet_model\u001b[39m(input_shape=(\u001b[32m224\u001b[39m, \u001b[32m224\u001b[39m, \u001b[32m3\u001b[39m), num_classes=\u001b[32m4\u001b[39m):\n\u001b[32m---> \u001b[39m\u001b[32m21\u001b[39m     base_model = \u001b[43mEfficientNetB0\u001b[49m\u001b[43m(\u001b[49m\u001b[43mweights\u001b[49m\u001b[43m=\u001b[49m\u001b[33;43m\"\u001b[39;49m\u001b[33;43mimagenet\u001b[39;49m\u001b[33;43m\"\u001b[39;49m\u001b[43m,\u001b[49m\u001b[43m \u001b[49m\u001b[43minclude_top\u001b[49m\u001b[43m=\u001b[49m\u001b[38;5;28;43;01mFalse\u001b[39;49;00m\u001b[43m,\u001b[49m\u001b[43m \u001b[49m\u001b[43minput_shape\u001b[49m\u001b[43m=\u001b[49m\u001b[43minput_shape\u001b[49m\u001b[43m)\u001b[49m\n\u001b[32m     22\u001b[39m     base_model.trainable = \u001b[38;5;28;01mFalse\u001b[39;00m  \u001b[38;5;66;03m# Transfer learning (congela base)\u001b[39;00m\n\u001b[32m     24\u001b[39m     model = models.Sequential([\n\u001b[32m     25\u001b[39m         base_model,\n\u001b[32m     26\u001b[39m         layers.Flatten(),\n\u001b[32m   (...)\u001b[39m\u001b[32m     29\u001b[39m         layers.Dense(num_classes, activation=\u001b[33m\"\u001b[39m\u001b[33msoftmax\u001b[39m\u001b[33m\"\u001b[39m)\n\u001b[32m     30\u001b[39m     ])\n",
            "\u001b[36mFile \u001b[39m\u001b[32m~\\AppData\\Local\\Packages\\PythonSoftwareFoundation.Python.3.13_qbz5n2kfra8p0\\LocalCache\\local-packages\\Python313\\site-packages\\keras\\src\\applications\\efficientnet.py:571\u001b[39m, in \u001b[36mEfficientNetB0\u001b[39m\u001b[34m(include_top, weights, input_tensor, input_shape, pooling, classes, classifier_activation, name)\u001b[39m\n\u001b[32m    555\u001b[39m \u001b[38;5;129m@keras_export\u001b[39m(\n\u001b[32m    556\u001b[39m     [\n\u001b[32m    557\u001b[39m         \u001b[33m\"\u001b[39m\u001b[33mkeras.applications.efficientnet.EfficientNetB0\u001b[39m\u001b[33m\"\u001b[39m,\n\u001b[32m   (...)\u001b[39m\u001b[32m    569\u001b[39m     name=\u001b[33m\"\u001b[39m\u001b[33mefficientnetb0\u001b[39m\u001b[33m\"\u001b[39m,\n\u001b[32m    570\u001b[39m ):\n\u001b[32m--> \u001b[39m\u001b[32m571\u001b[39m     \u001b[38;5;28;01mreturn\u001b[39;00m \u001b[43mEfficientNet\u001b[49m\u001b[43m(\u001b[49m\n\u001b[32m    572\u001b[39m \u001b[43m        \u001b[49m\u001b[32;43m1.0\u001b[39;49m\u001b[43m,\u001b[49m\n\u001b[32m    573\u001b[39m \u001b[43m        \u001b[49m\u001b[32;43m1.0\u001b[39;49m\u001b[43m,\u001b[49m\n\u001b[32m    574\u001b[39m \u001b[43m        \u001b[49m\u001b[32;43m224\u001b[39;49m\u001b[43m,\u001b[49m\n\u001b[32m    575\u001b[39m \u001b[43m        \u001b[49m\u001b[32;43m0.2\u001b[39;49m\u001b[43m,\u001b[49m\n\u001b[32m    576\u001b[39m \u001b[43m        \u001b[49m\u001b[43mname\u001b[49m\u001b[43m=\u001b[49m\u001b[43mname\u001b[49m\u001b[43m,\u001b[49m\n\u001b[32m    577\u001b[39m \u001b[43m        \u001b[49m\u001b[43minclude_top\u001b[49m\u001b[43m=\u001b[49m\u001b[43minclude_top\u001b[49m\u001b[43m,\u001b[49m\n\u001b[32m    578\u001b[39m \u001b[43m        \u001b[49m\u001b[43mweights\u001b[49m\u001b[43m=\u001b[49m\u001b[43mweights\u001b[49m\u001b[43m,\u001b[49m\n\u001b[32m    579\u001b[39m \u001b[43m        \u001b[49m\u001b[43minput_tensor\u001b[49m\u001b[43m=\u001b[49m\u001b[43minput_tensor\u001b[49m\u001b[43m,\u001b[49m\n\u001b[32m    580\u001b[39m \u001b[43m        \u001b[49m\u001b[43minput_shape\u001b[49m\u001b[43m=\u001b[49m\u001b[43minput_shape\u001b[49m\u001b[43m,\u001b[49m\n\u001b[32m    581\u001b[39m \u001b[43m        \u001b[49m\u001b[43mpooling\u001b[49m\u001b[43m=\u001b[49m\u001b[43mpooling\u001b[49m\u001b[43m,\u001b[49m\n\u001b[32m    582\u001b[39m \u001b[43m        \u001b[49m\u001b[43mclasses\u001b[49m\u001b[43m=\u001b[49m\u001b[43mclasses\u001b[49m\u001b[43m,\u001b[49m\n\u001b[32m    583\u001b[39m \u001b[43m        \u001b[49m\u001b[43mclassifier_activation\u001b[49m\u001b[43m=\u001b[49m\u001b[43mclassifier_activation\u001b[49m\u001b[43m,\u001b[49m\n\u001b[32m    584\u001b[39m \u001b[43m        \u001b[49m\u001b[43mweights_name\u001b[49m\u001b[43m=\u001b[49m\u001b[33;43m\"\u001b[39;49m\u001b[33;43mb0\u001b[39;49m\u001b[33;43m\"\u001b[39;49m\u001b[43m,\u001b[49m\n\u001b[32m    585\u001b[39m \u001b[43m    \u001b[49m\u001b[43m)\u001b[49m\n",
            "\u001b[36mFile \u001b[39m\u001b[32m~\\AppData\\Local\\Packages\\PythonSoftwareFoundation.Python.3.13_qbz5n2kfra8p0\\LocalCache\\local-packages\\Python313\\site-packages\\keras\\src\\applications\\efficientnet.py:434\u001b[39m, in \u001b[36mEfficientNet\u001b[39m\u001b[34m(width_coefficient, depth_coefficient, default_size, dropout_rate, drop_connect_rate, depth_divisor, activation, blocks_args, name, include_top, weights, input_tensor, input_shape, pooling, classes, classifier_activation, weights_name)\u001b[39m\n\u001b[32m    427\u001b[39m     file_name = name + file_suffix\n\u001b[32m    428\u001b[39m     weights_path = file_utils.get_file(\n\u001b[32m    429\u001b[39m         file_name,\n\u001b[32m    430\u001b[39m         BASE_WEIGHTS_PATH + file_name,\n\u001b[32m    431\u001b[39m         cache_subdir=\u001b[33m\"\u001b[39m\u001b[33mmodels\u001b[39m\u001b[33m\"\u001b[39m,\n\u001b[32m    432\u001b[39m         file_hash=file_hash,\n\u001b[32m    433\u001b[39m     )\n\u001b[32m--> \u001b[39m\u001b[32m434\u001b[39m     \u001b[43mmodel\u001b[49m\u001b[43m.\u001b[49m\u001b[43mload_weights\u001b[49m\u001b[43m(\u001b[49m\u001b[43mweights_path\u001b[49m\u001b[43m)\u001b[49m\n\u001b[32m    435\u001b[39m \u001b[38;5;28;01melif\u001b[39;00m weights \u001b[38;5;129;01mis\u001b[39;00m \u001b[38;5;129;01mnot\u001b[39;00m \u001b[38;5;28;01mNone\u001b[39;00m:\n\u001b[32m    436\u001b[39m     model.load_weights(weights)\n",
            "\u001b[36mFile \u001b[39m\u001b[32m~\\AppData\\Local\\Packages\\PythonSoftwareFoundation.Python.3.13_qbz5n2kfra8p0\\LocalCache\\local-packages\\Python313\\site-packages\\keras\\src\\utils\\traceback_utils.py:122\u001b[39m, in \u001b[36mfilter_traceback.<locals>.error_handler\u001b[39m\u001b[34m(*args, **kwargs)\u001b[39m\n\u001b[32m    119\u001b[39m     filtered_tb = _process_traceback_frames(e.__traceback__)\n\u001b[32m    120\u001b[39m     \u001b[38;5;66;03m# To get the full stack trace, call:\u001b[39;00m\n\u001b[32m    121\u001b[39m     \u001b[38;5;66;03m# `keras.config.disable_traceback_filtering()`\u001b[39;00m\n\u001b[32m--> \u001b[39m\u001b[32m122\u001b[39m     \u001b[38;5;28;01mraise\u001b[39;00m e.with_traceback(filtered_tb) \u001b[38;5;28;01mfrom\u001b[39;00m\u001b[38;5;250m \u001b[39m\u001b[38;5;28;01mNone\u001b[39;00m\n\u001b[32m    123\u001b[39m \u001b[38;5;28;01mfinally\u001b[39;00m:\n\u001b[32m    124\u001b[39m     \u001b[38;5;28;01mdel\u001b[39;00m filtered_tb\n",
            "\u001b[36mFile \u001b[39m\u001b[32m~\\AppData\\Local\\Packages\\PythonSoftwareFoundation.Python.3.13_qbz5n2kfra8p0\\LocalCache\\local-packages\\Python313\\site-packages\\keras\\src\\legacy\\saving\\legacy_h5_format.py:447\u001b[39m, in \u001b[36m_set_weights\u001b[39m\u001b[34m(instance, symbolic_weights, weight_values, name, skip_mismatch)\u001b[39m\n\u001b[32m    437\u001b[39m             warnings.warn(\n\u001b[32m    438\u001b[39m                 \u001b[33mf\u001b[39m\u001b[33m\"\u001b[39m\u001b[33mSkipping loading weights for \u001b[39m\u001b[38;5;132;01m{\u001b[39;00mname\u001b[38;5;132;01m}\u001b[39;00m\u001b[33m\"\u001b[39m\n\u001b[32m    439\u001b[39m                 \u001b[33mf\u001b[39m\u001b[33m\"\u001b[39m\u001b[33mdue to mismatch in shape for \u001b[39m\u001b[33m\"\u001b[39m\n\u001b[32m   (...)\u001b[39m\u001b[32m    444\u001b[39m                 stacklevel=\u001b[32m2\u001b[39m,\n\u001b[32m    445\u001b[39m             )\n\u001b[32m    446\u001b[39m             \u001b[38;5;28;01mcontinue\u001b[39;00m\n\u001b[32m--> \u001b[39m\u001b[32m447\u001b[39m         \u001b[38;5;28;01mraise\u001b[39;00m \u001b[38;5;167;01mValueError\u001b[39;00m(\n\u001b[32m    448\u001b[39m             \u001b[33mf\u001b[39m\u001b[33m\"\u001b[39m\u001b[33mShape mismatch in \u001b[39m\u001b[38;5;132;01m{\u001b[39;00mname\u001b[38;5;132;01m}\u001b[39;00m\u001b[33m\"\u001b[39m\n\u001b[32m    449\u001b[39m             \u001b[33mf\u001b[39m\u001b[33m\"\u001b[39m\u001b[33mfor weight \u001b[39m\u001b[38;5;132;01m{\u001b[39;00msymbolic_weights[i].path\u001b[38;5;132;01m}\u001b[39;00m\u001b[33m. \u001b[39m\u001b[33m\"\u001b[39m\n\u001b[32m    450\u001b[39m             \u001b[33mf\u001b[39m\u001b[33m\"\u001b[39m\u001b[33mWeight expects shape \u001b[39m\u001b[38;5;132;01m{\u001b[39;00mexpected_shape\u001b[38;5;132;01m}\u001b[39;00m\u001b[33m. \u001b[39m\u001b[33m\"\u001b[39m\n\u001b[32m    451\u001b[39m             \u001b[33m\"\u001b[39m\u001b[33mReceived saved weight \u001b[39m\u001b[33m\"\u001b[39m\n\u001b[32m    452\u001b[39m             \u001b[33mf\u001b[39m\u001b[33m\"\u001b[39m\u001b[33mwith shape \u001b[39m\u001b[38;5;132;01m{\u001b[39;00mreceived_shape\u001b[38;5;132;01m}\u001b[39;00m\u001b[33m\"\u001b[39m\n\u001b[32m    453\u001b[39m         )\n\u001b[32m    454\u001b[39m     symbolic_weights[i].assign(weight_value)\n\u001b[32m    456\u001b[39m \u001b[38;5;28;01mif\u001b[39;00m \u001b[38;5;28mhasattr\u001b[39m(instance, \u001b[33m\"\u001b[39m\u001b[33mfinalize_state\u001b[39m\u001b[33m\"\u001b[39m) \u001b[38;5;129;01mand\u001b[39;00m symbolic_weights:\n",
            "\u001b[31mValueError\u001b[39m: Shape mismatch in layer #1 (named stem_conv)for weight stem_conv/kernel. Weight expects shape (3, 3, 1, 32). Received saved weight with shape (3, 3, 3, 32)"
          ]
        }
      ],
      "source": [
        "\n",
        "#Vai aplicar a validação cruzada K-Fold\n",
        "n_folds = 3\n",
        "kf = KFold(n_splits=n_folds, shuffle=True, random_state=42)\n",
        "\n",
        "accuracies = []\n",
        "\n",
        "for fold, (train_idx, val_idx) in enumerate(kf.split(X)):\n",
        "    print(f\"Treinando fold {fold+1}...\")\n",
        "\n",
        "    x_train_cv, x_val_cv = X[train_idx], X[val_idx]\n",
        "    y_train_cv, y_val_cv = y[train_idx], y[val_idx]\n",
        "\n",
        "    # Normalização específica do EfficientNet\n",
        "    x_train_cv = preprocess_input(x_train_cv)\n",
        "    x_val_cv   = preprocess_input(x_val_cv)\n",
        "\n",
        "\n",
        "    model = create_efficientnet_model(input_shape=(224, 224, 3), num_classes=y.shape[1])\n",
        "    model.fit(x_train_cv, y_train_cv,\n",
        "              epochs=20, batch_size=32,\n",
        "              validation_data=(x_val_cv, y_val_cv), verbose=1)\n",
        "\n",
        "    _, acc = model.evaluate(x_val_cv, y_val_cv, verbose=0)\n",
        "    accuracies.append(acc)\n",
        "\n",
        "print(\"Acurácias por fold:\", accuracies)\n",
        "print(\"Acurácia média:\", np.mean(accuracies))\n"
      ]
    },
    {
      "cell_type": "markdown",
      "id": "_oUNRjHKCJaL",
      "metadata": {
        "id": "_oUNRjHKCJaL"
      },
      "source": [
        "# ResNet"
      ]
    },
    {
      "cell_type": "markdown",
      "id": "qqPWps1mJZqa",
      "metadata": {
        "id": "qqPWps1mJZqa"
      },
      "source": [
        "## Treinando com validação cruzada"
      ]
    },
    {
      "cell_type": "code",
      "execution_count": null,
      "id": "IzKxVXLUCLOY",
      "metadata": {
        "id": "IzKxVXLUCLOY"
      },
      "outputs": [],
      "source": [
        "# Vai aplicar a validação cruzada K-Fold\n",
        "n_folds = 3\n",
        "kf = KFold(n_splits=n_folds, shuffle=True, random_state=42)\n",
        "\n",
        "accuracies = []\n",
        "\n",
        "for fold, (train_idx, val_idx) in enumerate(kf.split(X)):\n",
        "    print(f\"Treinando fold {fold+1}...\")\n",
        "\n",
        "    x_train_cv, x_val_cv = X[train_idx], X[val_idx]\n",
        "    y_train_cv, y_val_cv = y[train_idx], y[val_idx]\n",
        "\n",
        "    # Normalização específica da ResNet50\n",
        "    x_train_cv = preprocess_input(x_train_cv)\n",
        "    x_val_cv   = preprocess_input(x_val_cv)\n",
        "\n",
        "    model = create_resnet_model(input_shape=(224, 224, 3), num_classes=y.shape[1])\n",
        "    model.fit(x_train_cv, y_train_cv,\n",
        "              epochs=10, batch_size=32,\n",
        "              validation_data=(x_val_cv, y_val_cv), verbose=1)\n",
        "\n",
        "    _, acc = model.evaluate(x_val_cv, y_val_cv, verbose=0)\n",
        "    accuracies.append(acc)\n",
        "\n",
        "print(\"Acurácias por fold:\", accuracies)\n",
        "print(\"Acurácia média:\", np.mean(accuracies))\n"
      ]
    },
    {
      "cell_type": "markdown",
      "id": "5DXUiw4KJdQK",
      "metadata": {
        "id": "5DXUiw4KJdQK"
      },
      "source": [
        "## Testando"
      ]
    },
    {
      "cell_type": "code",
      "execution_count": null,
      "id": "vhYTXiB_Je1A",
      "metadata": {
        "id": "vhYTXiB_Je1A"
      },
      "outputs": [],
      "source": [
        "# Pega todos os arquivos de teste com labels\n",
        "test_files_with_labels = data_loader.get_test_data()\n",
        "print(f\"Total de amostras de teste: {len(test_files_with_labels)}\")\n",
        "\n",
        "IMG_SIZE = (224, 224)\n",
        "X_test, y_test = [], []\n",
        "\n",
        "# Carrega e processa as imagens de teste\n",
        "for filename, label in test_files_with_labels:\n",
        "    if label == 0:\n",
        "        filepath = os.path.join(data_loader.test_normal_path, filename)\n",
        "    elif label == 1:\n",
        "        filepath = os.path.join(data_loader.test_ulcerative_colitis_path, filename)\n",
        "    elif label == 2:\n",
        "        filepath = os.path.join(data_loader.test_polyps_path, filename)\n",
        "    elif label == 3:\n",
        "        filepath = os.path.join(data_loader.test_esophagitis_path, filename)\n",
        "    else:\n",
        "        continue\n",
        "\n",
        "    img = cv2.imread(filepath)\n",
        "    if img is None:\n",
        "        print(f\"[AVISO] Não foi possível carregar: {filepath}\")\n",
        "        continue\n",
        "\n",
        "    img = cv2.resize(img, IMG_SIZE)\n",
        "    X_test.append(img)\n",
        "    y_test.append(label)\n",
        "\n",
        "# Normaliza e converte para categorical\n",
        "X_test = np.array(X_test, dtype=\"float32\") / 255.0\n",
        "y_test = to_categorical(np.array(y_test))\n",
        "\n",
        "print(f\"Formato de X_test: {X_test.shape}\")\n",
        "print(f\"Formato de y_test: {y_test.shape}\")\n",
        "\n",
        "# Avalia o modelo já treinado\n",
        "loss, acc = model.evaluate(X_test, y_test, verbose=1)\n",
        "print(f\"[TESTE FINAL] Loss: {loss:.4f}, Acurácia: {acc:.4f}\")\n"
      ]
    }
  ],
  "metadata": {
    "accelerator": "GPU",
    "colab": {
      "collapsed_sections": [
        "a1710239",
        "81dfd8e0",
        "71e01f96",
        "dHFtOqyM-mU8"
      ],
      "gpuType": "T4",
      "provenance": []
    },
    "kernelspec": {
      "display_name": "Python 3",
      "name": "python3"
    },
    "language_info": {
      "codemirror_mode": {
        "name": "ipython",
        "version": 3
      },
      "file_extension": ".py",
      "mimetype": "text/x-python",
      "name": "python",
      "nbconvert_exporter": "python",
      "pygments_lexer": "ipython3",
      "version": "3.13.7"
    }
  },
  "nbformat": 4,
  "nbformat_minor": 5
}
