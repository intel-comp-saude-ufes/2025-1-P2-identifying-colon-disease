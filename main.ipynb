{
  "cells": [
    {
      "cell_type": "markdown",
      "id": "78d2b54c",
      "metadata": {
        "id": "78d2b54c"
      },
      "source": [
        "# VGG16, EfficientNet e ResNet50 - Treinamento com Data Augmentation\n",
        "Este notebook aplica as redes **VGG16**, **EfficientNet** e **ResNet50** utilizando os dados já separados em treino, validação e teste pelo dataset, com data augmentation nos dados de treino."
      ]
    },
    {
      "cell_type": "markdown",
      "id": "a1710239",
      "metadata": {
        "id": "a1710239"
      },
      "source": [
        "# Importações Necessárias"
      ]
    },
    {
      "cell_type": "code",
      "execution_count": 1,
      "id": "fbd58443",
      "metadata": {
        "id": "fbd58443"
      },
      "outputs": [
        {
          "name": "stderr",
          "output_type": "stream",
          "text": [
            "C:\\Users\\Matheus\\AppData\\Local\\Packages\\PythonSoftwareFoundation.Python.3.13_qbz5n2kfra8p0\\LocalCache\\local-packages\\Python313\\site-packages\\tqdm\\auto.py:21: TqdmWarning: IProgress not found. Please update jupyter and ipywidgets. See https://ipywidgets.readthedocs.io/en/stable/user_install.html\n",
            "  from .autonotebook import tqdm as notebook_tqdm\n"
          ]
        }
      ],
      "source": [
        "import numpy as np\n",
        "import tensorflow as tf\n",
        "from sklearn.metrics import accuracy_score, confusion_matrix, classification_report\n",
        "from tensorflow.keras.utils import to_categorical\n",
        "from tensorflow.keras.preprocessing.image import ImageDataGenerator\n",
        "import os\n",
        "import cv2\n",
        "import seaborn as sns\n",
        "import matplotlib.pyplot as plt\n",
        "from tensorflow.keras.applications.resnet50 import preprocess_input\n",
        "\n",
        "# Imports de classes dentro do projeto\n",
        "from get_data_from_db import DataLoader\n",
        "from create_model import create_vgg_model, create_efficientnet_model, create_resnet_model"
      ]
    },
    {
      "cell_type": "markdown",
      "id": "load_data",
      "metadata": {},
      "source": [
        "# Função para Carregar e Processar Dados"
      ]
    },
    {
      "cell_type": "code",
      "execution_count": 2,
      "id": "load_function",
      "metadata": {},
      "outputs": [],
      "source": [
        "def load_and_process_data(data_loader, data_type='train'):\n",
        "    \"\"\"\n",
        "    Carrega e processa os dados de acordo com o tipo especificado.\n",
        "    \n",
        "    Args:\n",
        "        data_loader: Instância do DataLoader\n",
        "        data_type: 'train', 'val' ou 'test'\n",
        "    \n",
        "    Returns:\n",
        "        X, y: Arrays numpy com as imagens e labels processados\n",
        "    \"\"\"\n",
        "    IMG_SIZE = (224, 224)\n",
        "    \n",
        "    if data_type == 'train':\n",
        "        data_with_labels = data_loader.get_train_data()\n",
        "        paths = {\n",
        "            0: data_loader.train_normal_path,\n",
        "            1: data_loader.train_ulcerative_colitis_path,\n",
        "            2: data_loader.train_polyps_path,\n",
        "            3: data_loader.train_esophagitis_path\n",
        "        }\n",
        "    elif data_type == 'val':\n",
        "        data_with_labels = data_loader.get_val_data()\n",
        "        paths = {\n",
        "            0: data_loader.val_normal_path,\n",
        "            1: data_loader.val_ulcerative_colitis_path,\n",
        "            2: data_loader.val_polyps_path,\n",
        "            3: data_loader.val_esophagitis_path\n",
        "        }\n",
        "    elif data_type == 'test':\n",
        "        data_with_labels = data_loader.get_test_data()\n",
        "        paths = {\n",
        "            0: data_loader.test_normal_path,\n",
        "            1: data_loader.test_ulcerative_colitis_path,\n",
        "            2: data_loader.test_polyps_path,\n",
        "            3: data_loader.test_esophagitis_path\n",
        "        }\n",
        "    else:\n",
        "        raise ValueError(\"data_type deve ser 'train', 'val' ou 'test'\")\n",
        "    \n",
        "    print(f\"Total de amostras de {data_type}: {len(data_with_labels)}\")\n",
        "    \n",
        "    X, y = [], []\n",
        "    \n",
        "    for filename, label in data_with_labels:\n",
        "        if label not in paths:\n",
        "            continue\n",
        "            \n",
        "        filepath = os.path.join(paths[label], filename)\n",
        "        \n",
        "        img = cv2.imread(filepath)\n",
        "        if img is None:\n",
        "            print(f\"[AVISO] Não foi possível carregar: {filepath}\")\n",
        "            continue\n",
        "        \n",
        "        img = cv2.resize(img, IMG_SIZE)\n",
        "        X.append(img)\n",
        "        y.append(label)\n",
        "    \n",
        "    X = np.array(X, dtype=\"float32\") / 255.0  # Normalização padrão\n",
        "    y = to_categorical(np.array(y), num_classes=4)\n",
        "    \n",
        "    print(f\"Formato de X_{data_type}: {X.shape}\")\n",
        "    print(f\"Formato de y_{data_type}: {y.shape}\")\n",
        "    \n",
        "    return X, y"
      ]
    },
    {
      "cell_type": "markdown",
      "id": "data_aug_section",
      "metadata": {},
      "source": [
        "# Configuração do Data Augmentation"
      ]
    },
    {
      "cell_type": "code",
      "execution_count": 3,
      "id": "data_aug_config",
      "metadata": {},
      "outputs": [
        {
          "name": "stdout",
          "output_type": "stream",
          "text": [
            "Data Augmentation configurado com os seguintes parâmetros:\n",
            "- Rotação: ±20 graus\n",
            "- Deslocamento: ±10%\n",
            "- Cisalhamento: 10%\n",
            "- Zoom: ±10%\n",
            "- Espelhamento horizontal: Sim\n",
            "- Variação de brilho: 80% - 120%\n"
          ]
        }
      ],
      "source": [
        "# Configurando o ImageDataGenerator para data augmentation\n",
        "datagen = ImageDataGenerator(\n",
        "    rotation_range=20,          # Rotação aleatória até 20 graus\n",
        "    width_shift_range=0.1,      # Deslocamento horizontal de até 10%\n",
        "    height_shift_range=0.1,     # Deslocamento vertical de até 10%\n",
        "    shear_range=0.1,            # Transformação de cisalhamento\n",
        "    zoom_range=0.1,             # Zoom aleatório de até 10%\n",
        "    horizontal_flip=True,       # Espelhamento horizontal\n",
        "    vertical_flip=False,        # Sem espelhamento vertical (não recomendado para imagens médicas)\n",
        "    fill_mode='nearest',        # Preenchimento de pixels\n",
        "    brightness_range=[0.8, 1.2] # Variação de brilho\n",
        ")\n",
        "\n",
        "print(\"Data Augmentation configurado com os seguintes parâmetros:\")\n",
        "print(\"- Rotação: ±20 graus\")\n",
        "print(\"- Deslocamento: ±10%\")\n",
        "print(\"- Cisalhamento: 10%\")\n",
        "print(\"- Zoom: ±10%\")\n",
        "print(\"- Espelhamento horizontal: Sim\")\n",
        "print(\"- Variação de brilho: 80% - 120%\")"
      ]
    },
    {
      "cell_type": "markdown",
      "id": "4aeb2faa",
      "metadata": {
        "id": "4aeb2faa"
      },
      "source": [
        "# Carregando os Dados"
      ]
    },
    {
      "cell_type": "code",
      "execution_count": 4,
      "id": "cf93da84",
      "metadata": {
        "id": "cf93da84"
      },
      "outputs": [
        {
          "name": "stdout",
          "output_type": "stream",
          "text": [
            "Dataset downloaded/cached at: C:\\Users\\Matheus\\.cache\\kagglehub\\datasets\\francismon\\curated-colon-dataset-for-deep-learning\\versions\\1\n",
            "Total de amostras de train: 3200\n",
            "Formato de X_train: (3200, 224, 224, 3)\n",
            "Formato de y_train: (3200, 4)\n",
            "Total de amostras de val: 2000\n",
            "Formato de X_val: (2000, 224, 224, 3)\n",
            "Formato de y_val: (2000, 4)\n",
            "Total de amostras de test: 800\n",
            "Formato de X_test: (800, 224, 224, 3)\n",
            "Formato de y_test: (800, 4)\n",
            "\n",
            "Aplicando data augmentation nos dados de treino...\n",
            "Data augmentation configurado!\n"
          ]
        }
      ],
      "source": [
        "# Inicializa o DataLoader\n",
        "data_loader = DataLoader()\n",
        "\n",
        "# Carrega os dados de treino, validação e teste separadamente\n",
        "X_train, y_train = load_and_process_data(data_loader, 'train')\n",
        "X_val, y_val = load_and_process_data(data_loader, 'val')\n",
        "X_test, y_test = load_and_process_data(data_loader, 'test')\n",
        "\n",
        "# Aplica o data augmentation apenas nos dados de treino\n",
        "print(\"\\nAplicando data augmentation nos dados de treino...\")\n",
        "datagen.fit(X_train)\n",
        "print(\"Data augmentation configurado!\")"
      ]
    },
    {
      "cell_type": "markdown",
      "id": "29f2ade7",
      "metadata": {},
      "source": [
        "## Treinando com ResNet50 (com Data Augmentation)"
      ]
    },
    {
      "cell_type": "code",
      "execution_count": 5,
      "id": "IzKxVXLUCLOY",
      "metadata": {
        "id": "IzKxVXLUCLOY"
      },
      "outputs": [
        {
          "name": "stdout",
          "output_type": "stream",
          "text": [
            "Treinando ResNet50 com Data Augmentation...\n",
            "Downloading data from https://storage.googleapis.com/tensorflow/keras-applications/resnet/resnet50_weights_tf_dim_ordering_tf_kernels_notop.h5\n",
            "\u001b[1m94765736/94765736\u001b[0m \u001b[32m━━━━━━━━━━━━━━━━━━━━\u001b[0m\u001b[37m\u001b[0m \u001b[1m9s\u001b[0m 0us/step\n"
          ]
        },
        {
          "name": "stderr",
          "output_type": "stream",
          "text": [
            "C:\\Users\\Matheus\\AppData\\Local\\Packages\\PythonSoftwareFoundation.Python.3.13_qbz5n2kfra8p0\\LocalCache\\local-packages\\Python313\\site-packages\\keras\\src\\trainers\\data_adapters\\py_dataset_adapter.py:121: UserWarning: Your `PyDataset` class should call `super().__init__(**kwargs)` in its constructor. `**kwargs` can include `workers`, `use_multiprocessing`, `max_queue_size`. Do not pass these arguments to `fit()`, as they will be ignored.\n",
            "  self._warn_if_super_not_called()\n"
          ]
        },
        {
          "name": "stdout",
          "output_type": "stream",
          "text": [
            "Epoch 1/10\n",
            "\u001b[1m100/100\u001b[0m \u001b[32m━━━━━━━━━━━━━━━━━━━━\u001b[0m\u001b[37m\u001b[0m \u001b[1m261s\u001b[0m 3s/step - accuracy: 0.8759 - loss: 4.5166 - val_accuracy: 0.8265 - val_loss: 1.6115\n",
            "Epoch 2/10\n",
            "\u001b[1m100/100\u001b[0m \u001b[32m━━━━━━━━━━━━━━━━━━━━\u001b[0m\u001b[37m\u001b[0m \u001b[1m256s\u001b[0m 3s/step - accuracy: 0.9375 - loss: 0.4432 - val_accuracy: 0.7470 - val_loss: 2.3915\n",
            "Epoch 3/10\n",
            "\u001b[1m100/100\u001b[0m \u001b[32m━━━━━━━━━━━━━━━━━━━━\u001b[0m\u001b[37m\u001b[0m \u001b[1m253s\u001b[0m 3s/step - accuracy: 0.9444 - loss: 0.2434 - val_accuracy: 0.8845 - val_loss: 0.5250\n",
            "Epoch 4/10\n",
            "\u001b[1m100/100\u001b[0m \u001b[32m━━━━━━━━━━━━━━━━━━━━\u001b[0m\u001b[37m\u001b[0m \u001b[1m260s\u001b[0m 3s/step - accuracy: 0.9431 - loss: 0.2219 - val_accuracy: 0.9255 - val_loss: 0.2842\n",
            "Epoch 5/10\n",
            "\u001b[1m100/100\u001b[0m \u001b[32m━━━━━━━━━━━━━━━━━━━━\u001b[0m\u001b[37m\u001b[0m \u001b[1m255s\u001b[0m 3s/step - accuracy: 0.9447 - loss: 0.2464 - val_accuracy: 0.9130 - val_loss: 0.4848\n",
            "Epoch 6/10\n",
            "\u001b[1m100/100\u001b[0m \u001b[32m━━━━━━━━━━━━━━━━━━━━\u001b[0m\u001b[37m\u001b[0m \u001b[1m258s\u001b[0m 3s/step - accuracy: 0.9375 - loss: 0.3797 - val_accuracy: 0.8560 - val_loss: 0.8484\n",
            "Epoch 7/10\n",
            "\u001b[1m100/100\u001b[0m \u001b[32m━━━━━━━━━━━━━━━━━━━━\u001b[0m\u001b[37m\u001b[0m \u001b[1m259s\u001b[0m 3s/step - accuracy: 0.9575 - loss: 0.2101 - val_accuracy: 0.9195 - val_loss: 0.2847\n",
            "Epoch 8/10\n",
            "\u001b[1m100/100\u001b[0m \u001b[32m━━━━━━━━━━━━━━━━━━━━\u001b[0m\u001b[37m\u001b[0m \u001b[1m254s\u001b[0m 3s/step - accuracy: 0.9575 - loss: 0.1775 - val_accuracy: 0.8855 - val_loss: 0.4093\n",
            "Epoch 9/10\n",
            "\u001b[1m100/100\u001b[0m \u001b[32m━━━━━━━━━━━━━━━━━━━━\u001b[0m\u001b[37m\u001b[0m \u001b[1m259s\u001b[0m 3s/step - accuracy: 0.9625 - loss: 0.1720 - val_accuracy: 0.9175 - val_loss: 0.4408\n",
            "Epoch 10/10\n",
            "\u001b[1m100/100\u001b[0m \u001b[32m━━━━━━━━━━━━━━━━━━━━\u001b[0m\u001b[37m\u001b[0m \u001b[1m261s\u001b[0m 3s/step - accuracy: 0.9547 - loss: 0.1523 - val_accuracy: 0.9130 - val_loss: 0.3953\n",
            "[ResNet50 - VALIDAÇÃO] Loss: 0.3953, Acurácia: 0.9130\n"
          ]
        }
      ],
      "source": [
        "print(\"Treinando ResNet50 com Data Augmentation...\")\n",
        "\n",
        "# Prepara dados com pré-processamento específico da ResNet50\n",
        "X_val_res = preprocess_input(X_val * 255.0)\n",
        "X_test_res = preprocess_input(X_test * 255.0)\n",
        "\n",
        "# Cria o modelo ResNet50\n",
        "resnet_model = create_resnet_model(input_shape=(224, 224, 3), num_classes=4)\n",
        "\n",
        "# Configura o data augmentation para ResNet50 (necessário reprocessar)\n",
        "datagen_resnet = ImageDataGenerator(\n",
        "    rotation_range=20,\n",
        "    width_shift_range=0.1,\n",
        "    height_shift_range=0.1,\n",
        "    shear_range=0.1,\n",
        "    zoom_range=0.1,\n",
        "    horizontal_flip=True,\n",
        "    vertical_flip=False,\n",
        "    fill_mode='nearest',\n",
        "    brightness_range=[0.8, 1.2],\n",
        "    preprocessing_function=lambda x: preprocess_input(x)  # Aplica o preprocess da ResNet50\n",
        ")\n",
        "\n",
        "# Treina o modelo usando o gerador de dados com augmentation\n",
        "history_res = resnet_model.fit(\n",
        "    datagen_resnet.flow(X_train * 255.0, y_train, batch_size=32),  # Multiplica por 255 para reverter normalização\n",
        "    steps_per_epoch=len(X_train) // 32,\n",
        "    epochs=10,\n",
        "    validation_data=(X_val_res, y_val),\n",
        "    verbose=1\n",
        ")\n",
        "\n",
        "# Avalia no conjunto de validação\n",
        "val_loss_res, val_acc_res = resnet_model.evaluate(X_val_res, y_val, verbose=0)\n",
        "print(f\"[ResNet50 - VALIDAÇÃO] Loss: {val_loss_res:.4f}, Acurácia: {val_acc_res:.4f}\")"
      ]
    },
    {
      "cell_type": "markdown",
      "id": "5DXUiw4KJdQK",
      "metadata": {
        "id": "5DXUiw4KJdQK"
      },
      "source": [
        "## Testando ResNet50"
      ]
    },
    {
      "cell_type": "code",
      "execution_count": 6,
      "id": "vhYTXiB_Je1A",
      "metadata": {
        "id": "vhYTXiB_Je1A"
      },
      "outputs": [
        {
          "name": "stdout",
          "output_type": "stream",
          "text": [
            "\u001b[1m25/25\u001b[0m \u001b[32m━━━━━━━━━━━━━━━━━━━━\u001b[0m\u001b[37m\u001b[0m \u001b[1m38s\u001b[0m 2s/step - accuracy: 0.9150 - loss: 0.3246\n",
            "[ResNet50 - TESTE] Loss: 0.3246, Acurácia: 0.9150\n"
          ]
        }
      ],
      "source": [
        "# Avalia o modelo ResNet50 no conjunto de teste\n",
        "test_loss_res, test_acc_res = resnet_model.evaluate(X_test_res, y_test, verbose=1)\n",
        "print(f\"[ResNet50 - TESTE] Loss: {test_loss_res:.4f}, Acurácia: {test_acc_res:.4f}\")"
      ]
    },
    {
      "cell_type": "code",
      "execution_count": 7,
      "id": "3a7b8067",
      "metadata": {},
      "outputs": [
        {
          "name": "stdout",
          "output_type": "stream",
          "text": [
            "\u001b[1m25/25\u001b[0m \u001b[32m━━━━━━━━━━━━━━━━━━━━\u001b[0m\u001b[37m\u001b[0m \u001b[1m41s\u001b[0m 2s/step\n"
          ]
        },
        {
          "data": {
            "image/png": "[encoded data removed]",
            "text/plain": [
              "<Figure size 800x600 with 2 Axes>"
            ]
          },
          "metadata": {},
          "output_type": "display_data"
        },
        {
          "name": "stdout",
          "output_type": "stream",
          "text": [
            "\n",
            "Relatório de Classificação - ResNet50 com Data Augmentation:\n",
            "                    precision    recall  f1-score   support\n",
            "\n",
            "            Normal       0.94      1.00      0.97       200\n",
            "Ulcerative Colitis       0.99      0.72      0.83       200\n",
            "            Polyps       0.85      0.94      0.90       200\n",
            "       Esophagitis       0.90      1.00      0.95       200\n",
            "\n",
            "          accuracy                           0.92       800\n",
            "         macro avg       0.92      0.92      0.91       800\n",
            "      weighted avg       0.92      0.92      0.91       800\n",
            "\n"
          ]
        }
      ],
      "source": [
        "# Fazer as predições no conjunto de teste\n",
        "predicoes_resnet = resnet_model.predict(X_test_res, verbose=1)\n",
        "\n",
        "# Converter as predições de one-hot encoding para labels\n",
        "y_pred_resnet = np.argmax(predicoes_resnet, axis=1)\n",
        "\n",
        "# Converter os verdadeiros labels de one-hot encoding para labels\n",
        "y_true_resnet = np.argmax(y_test, axis=1)\n",
        "\n",
        "# Calcular a matriz de confusão\n",
        "cm_resnet = confusion_matrix(y_true_resnet, y_pred_resnet)\n",
        "\n",
        "# Definir os nomes das classes\n",
        "classes = [\"Normal\", \"Ulcerative Colitis\", \"Polyps\", \"Esophagitis\"]\n",
        "\n",
        "# Plotar a matriz de confusão\n",
        "plt.figure(figsize=(8, 6))\n",
        "sns.heatmap(cm_resnet, annot=True, fmt='d', cmap='Blues', \n",
        "            xticklabels=classes, yticklabels=classes)\n",
        "plt.ylabel('Classe Verdadeira')\n",
        "plt.xlabel('Classe Predita')\n",
        "plt.title('Matriz de Confusão - ResNet50 com Data Augmentation (Teste)')\n",
        "plt.show()\n",
        "\n",
        "# Exibir relatório de classificação\n",
        "print(\"\\nRelatório de Classificação - ResNet50 com Data Augmentation:\")\n",
        "print(classification_report(y_true_resnet, y_pred_resnet, target_names=classes))"
      ]
    },
    {
      "cell_type": "code",
      "execution_count": 8,
      "id": "34658f18",
      "metadata": {},
      "outputs": [
        {
          "name": "stderr",
          "output_type": "stream",
          "text": [
            "WARNING:absl:You are saving your model as an HDF5 file via `model.save()` or `keras.saving.save_model(model)`. This file format is considered legacy. We recommend using instead the native Keras format, e.g. `model.save('my_model.keras')` or `keras.saving.save_model(model, 'my_model.keras')`. \n"
          ]
        },
        {
          "name": "stdout",
          "output_type": "stream",
          "text": [
            "Modelo salvo em: resnet50_colon_model.h5\n"
          ]
        }
      ],
      "source": [
        "# Adicione esta célula no final do seu notebook 'main3.ipynb'\n",
        "model_save_path = 'resnet50_colon_model.h5'\n",
        "resnet_model.save(model_save_path)\n",
        "print(f\"Modelo salvo em: {model_save_path}\")"
      ]
    }
  ],
  "metadata": {
    "accelerator": "GPU",
    "colab": {
      "collapsed_sections": [],
      "gpuType": "T4",
      "provenance": []
    },
    "kernelspec": {
      "display_name": "Python 3",
      "name": "python3"
    },
    "language_info": {
      "codemirror_mode": {
        "name": "ipython",
        "version": 3
      },
      "file_extension": ".py",
      "mimetype": "text/x-python",
      "name": "python",
      "nbconvert_exporter": "python",
      "pygments_lexer": "ipython3",
      "version": "3.13.7"
    }
  },
  "nbformat": 4,
  "nbformat_minor": 5
}
